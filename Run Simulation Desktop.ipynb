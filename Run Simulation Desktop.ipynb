{
 "cells": [
  {
   "cell_type": "code",
   "execution_count": 1,
   "id": "4575555f",
   "metadata": {},
   "outputs": [
    {
     "name": "stdout",
     "output_type": "stream",
     "text": [
      "1\n",
      "Time taken: 6.92\n"
     ]
    }
   ],
   "source": [
    "import os\n",
    "import numpy as np\n",
    "import matplotlib.pyplot as plt\n",
    "import time as time\n",
    "\n",
    "from SimulationControl import SimControl\n",
    "\n",
    "SimCon = SimControl()\n",
    "SimCon.params[\"Notebook\"] = 0\n",
    "SimCon.params[\"simtime\"] = 1200\n",
    "SimCon.params[\"h\"] = 0.1\n",
    "\n",
    "t0 = time.time()\n",
    "print(os.system(SimCon.Generate_Command()))\n",
    "t1 = time.time()\n",
    "\n",
    "print(f\"Time taken: {t1-t0:.2f}\")\n"
   ]
  },
  {
   "cell_type": "code",
   "execution_count": 2,
   "id": "5216f2ac",
   "metadata": {},
   "outputs": [
    {
     "ename": "AssertionError",
     "evalue": "",
     "output_type": "error",
     "traceback": [
      "\u001b[1;31m---------------------------------------------------------------------------\u001b[0m",
      "\u001b[1;31mAssertionError\u001b[0m                            Traceback (most recent call last)",
      "\u001b[1;32m<ipython-input-2-a871fdc9ebee>\u001b[0m in \u001b[0;36m<module>\u001b[1;34m\u001b[0m\n\u001b[1;32m----> 1\u001b[1;33m \u001b[1;32massert\u001b[0m \u001b[1;32mFalse\u001b[0m\u001b[1;33m\u001b[0m\u001b[1;33m\u001b[0m\u001b[0m\n\u001b[0m",
      "\u001b[1;31mAssertionError\u001b[0m: "
     ]
    }
   ],
   "source": [
    "assert False"
   ]
  },
  {
   "cell_type": "code",
   "execution_count": null,
   "id": "6b274a78",
   "metadata": {},
   "outputs": [],
   "source": [
    "data = np.load(\"NotebookData.npy\",allow_pickle=True).item()\n",
    "STN = data[\"STN\"]\n",
    "GPe = data[\"GPe\"]\n",
    "data_dict = data[\"data\"]"
   ]
  },
  {
   "cell_type": "code",
   "execution_count": null,
   "id": "13eaab0d",
   "metadata": {},
   "outputs": [],
   "source": [
    "dt = SimCon.params[\"h\"]\n",
    "simtime = SimCon.params[\"simtime\"]\n",
    "\n",
    "def get_spike_trains(pop):\n",
    "    main_lis = []\n",
    "    for sp in pop.spiketrains:\n",
    "        s_lis = [ float(i) for i in sp] \n",
    "        main_lis.append(np.array(s_lis))\n",
    "\n",
    "    return main_lis\n",
    "\n",
    "low_cutoff = int(500/dt) #number of segments corresponding to first 500ms\n",
    "\n",
    "SLFP = np.array(STN.filter(name='soma(0.5).v')[0]).mean(axis=1)#(axis=1)\n",
    "GLFP = np.array(GPe.filter(name='soma(0.5).v')[0]).mean(axis=1)\n",
    "\n",
    "\n",
    "packed_dat = [{\"SLFP\": SLFP,\"GLFP\": GLFP,\"STrain\":get_spike_trains(STN),\n",
    "               \"GTrain\":get_spike_trains(GPe),\n",
    "               \"Sync\":np.sqrt(data_dict['STN synchrony']*data_dict['GPe synchrony']) ,\n",
    "              \"SMean\":data_dict[\"SMean\"],\n",
    "               \"GMean\":data_dict[\"GMean\"],\n",
    "              }]\n",
    "loc = 'dataOct21\\\\'\n",
    "netname = data_dict['Network_type']\n",
    "#name = f'S_{netname}_{n}_{data_dict[\"k\"]}_{data_dict[\"p\"]:5f}_{data_dict[\"recip\"]:.5f}.npy'\n",
    "#np.save(loc+name,packed_dat)\n",
    "recovered_dat = packed_dat[0] #np.load(loc+name,allow_pickle=True)[0]\n",
    "\n",
    "\n",
    "cols = '#2A92F5'\n",
    "colg = '#F5352A'\n",
    "\n",
    "\n",
    "k = data_dict[\"k\"]\n",
    "netlab = {'Regular':'k-Regular',  'Small_world': 'Small World','Spatial':'Nearest Neighbour',\n",
    "          'Scale_free': 'Preferential Attachment','SBlock': 'Stochastic Block'}\n",
    "\n",
    "SLFP = recovered_dat[\"SLFP\"]\n",
    "GLFP = recovered_dat[\"GLFP\"]\n",
    "\n",
    "STrain = recovered_dat[\"STrain\"]\n",
    "GTrain = recovered_dat[\"GTrain\"]\n",
    "\n",
    "sync = float(recovered_dat[\"Sync\"])\n",
    "textstr = r'Mean $\\chi$: '+ f'{sync:>3.3f}' + f\"\\nSTN FR: {data_dict['SMean']:>6.2f} \\nGPe FR: {data_dict['GMean']:>6.2f} \" \n",
    "\n",
    "# these are matplotlib.patch.Patch properties\n",
    "props = dict(boxstyle='round', facecolor='white', alpha=1,edgecolor='white')\n",
    "\n",
    "# place a text box in upper left in axes coords\n",
    "\n",
    "infigfontsize = 15\n",
    "titlefontsize = 18\n",
    "\n",
    "ilim = 70\n",
    "\n",
    "x_axis = np.linspace(0,simtime,len(GLFP))\n",
    "\n",
    "fig,ax = plt.subplots(2,1,figsize=[14,9],sharex=True)\n",
    "#fig.suptitle(params[\"Network_type\"])\n",
    "\n",
    "for i, train in enumerate(zip(STrain,GTrain)):\n",
    "    train1 = train[0]\n",
    "    train2 = train[1]\n",
    "    if i>ilim:\n",
    "        break\n",
    "    if i==0:\n",
    "        ax[0].plot(train1, i*np.ones(len(train1)), 'o', color = cols,markersize=5, alpha=0.5, label='STN')\n",
    "        ax[0].plot(train2, i*np.ones(len(train2)), 'o', color = colg,markersize=6, alpha=0.8, label='GPe')\n",
    "    else:\n",
    "        ax[0].plot(train1, i*np.ones(len(train1)), 'o', color = cols,markersize=5, alpha=0.8)\n",
    "        ax[0].plot(train2, i*np.ones(len(train2)), 'o', color = colg,markersize=6, alpha=0.9)\n",
    "\n",
    "\n",
    "#f'{netlab[data_dict[\"Network_type\"]]} Network'\n",
    "ax[0].set_title(f'Simulation Raster Plot: k={k}',fontsize=titlefontsize)\n",
    "ax[0].set_ylabel(\"Neuron Index\",fontsize=infigfontsize)\n",
    "ax[0].set_xlim(1000,1500)\n",
    "ax[0].set_ylim(-1,ilim+1)\n",
    "ax[0].legend(fontsize=infigfontsize,loc='upper right',framealpha=1)\n",
    "#ax[0].legend(fontsize=16,framealpha=1,shadow = True,borderpad=0.8,loc='upper right')\n",
    "\n",
    "ax[1].plot(x_axis, SLFP, label = 'STN',color = cols, alpha=0.9)\n",
    "ax[1].plot(x_axis, GLFP, label = 'GPe',color = colg, alpha=1)\n",
    "ax[1].set_title('Average Membrane Potential',fontsize=infigfontsize)\n",
    "ax[1].set_ylabel(\"Membrane Potential (mV)\",fontsize=infigfontsize)\n",
    "ax[1].set_xlabel(\"Time (ms)\",fontsize=infigfontsize)\n",
    "ax[1].set(ylim=[-85,-30,])\n",
    "ax[1].text(0.72, 0.95, textstr, transform=ax[1].transAxes, color='k', fontsize=infigfontsize, verticalalignment='top', bbox=props)\n",
    "# for i,trains in enumerate(GTrain):\n",
    "#     ax.plot(trains, i*np.ones(len(trains)), 'o', color = 'r',markersize=5, alpha=0.8)\n",
    "\n",
    "\n"
   ]
  },
  {
   "cell_type": "code",
   "execution_count": null,
   "id": "c0323cf3",
   "metadata": {},
   "outputs": [],
   "source": []
  }
 ],
 "metadata": {
  "kernelspec": {
   "display_name": "Python 3",
   "language": "python",
   "name": "python3"
  },
  "language_info": {
   "codemirror_mode": {
    "name": "ipython",
    "version": 3
   },
   "file_extension": ".py",
   "mimetype": "text/x-python",
   "name": "python",
   "nbconvert_exporter": "python",
   "pygments_lexer": "ipython3",
   "version": "3.7.7"
  }
 },
 "nbformat": 4,
 "nbformat_minor": 5
}
